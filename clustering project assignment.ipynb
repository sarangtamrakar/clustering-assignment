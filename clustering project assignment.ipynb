{
 "cells": [
  {
   "cell_type": "code",
   "execution_count": 1,
   "metadata": {},
   "outputs": [],
   "source": [
    "import pandas as pd\n",
    "import numpy as np\n",
    "import matplotlib.pyplot as plt\n",
    "import seaborn as sns"
   ]
  },
  {
   "cell_type": "code",
   "execution_count": 2,
   "metadata": {},
   "outputs": [
    {
     "data": {
      "text/plain": [
       "(41266, 502)"
      ]
     },
     "execution_count": 2,
     "metadata": {},
     "output_type": "execute_result"
    }
   ],
   "source": [
    "df = pd.read_csv(r'C:\\Users\\saran\\Downloads\\data_stocks.csv')\n",
    "df.shape"
   ]
  },
  {
   "cell_type": "code",
   "execution_count": 3,
   "metadata": {},
   "outputs": [],
   "source": [
    "from sklearn.cluster import AgglomerativeClustering,KMeans,DBSCAN\n",
    "from sklearn.metrics import silhouette_score\n",
    "from scipy.cluster.hierarchy import dendrogram,linkage\n",
    "from scipy.spatial import distance_matrix"
   ]
  },
  {
   "cell_type": "code",
   "execution_count": 4,
   "metadata": {},
   "outputs": [],
   "source": [
    "df['DATE'] = pd.to_datetime(df['DATE'])"
   ]
  },
  {
   "cell_type": "code",
   "execution_count": 5,
   "metadata": {},
   "outputs": [
    {
     "data": {
      "text/html": [
       "<div>\n",
       "<style scoped>\n",
       "    .dataframe tbody tr th:only-of-type {\n",
       "        vertical-align: middle;\n",
       "    }\n",
       "\n",
       "    .dataframe tbody tr th {\n",
       "        vertical-align: top;\n",
       "    }\n",
       "\n",
       "    .dataframe thead th {\n",
       "        text-align: right;\n",
       "    }\n",
       "</style>\n",
       "<table border=\"1\" class=\"dataframe\">\n",
       "  <thead>\n",
       "    <tr style=\"text-align: right;\">\n",
       "      <th></th>\n",
       "      <th>DATE</th>\n",
       "      <th>SP500</th>\n",
       "      <th>NASDAQ.AAL</th>\n",
       "      <th>NASDAQ.AAPL</th>\n",
       "      <th>NASDAQ.ADBE</th>\n",
       "      <th>NASDAQ.ADI</th>\n",
       "      <th>NASDAQ.ADP</th>\n",
       "      <th>NASDAQ.ADSK</th>\n",
       "      <th>NASDAQ.AKAM</th>\n",
       "      <th>NASDAQ.ALXN</th>\n",
       "      <th>...</th>\n",
       "      <th>NYSE.WYN</th>\n",
       "      <th>NYSE.XEC</th>\n",
       "      <th>NYSE.XEL</th>\n",
       "      <th>NYSE.XL</th>\n",
       "      <th>NYSE.XOM</th>\n",
       "      <th>NYSE.XRX</th>\n",
       "      <th>NYSE.XYL</th>\n",
       "      <th>NYSE.YUM</th>\n",
       "      <th>NYSE.ZBH</th>\n",
       "      <th>NYSE.ZTS</th>\n",
       "    </tr>\n",
       "  </thead>\n",
       "  <tbody>\n",
       "    <tr>\n",
       "      <th>0</th>\n",
       "      <td>1970-01-01 00:00:01.491226200</td>\n",
       "      <td>2363.6101</td>\n",
       "      <td>42.3300</td>\n",
       "      <td>143.6800</td>\n",
       "      <td>129.6300</td>\n",
       "      <td>82.040</td>\n",
       "      <td>102.2300</td>\n",
       "      <td>85.2200</td>\n",
       "      <td>59.760</td>\n",
       "      <td>121.520</td>\n",
       "      <td>...</td>\n",
       "      <td>84.370</td>\n",
       "      <td>119.035</td>\n",
       "      <td>44.400</td>\n",
       "      <td>39.880</td>\n",
       "      <td>82.030</td>\n",
       "      <td>7.360</td>\n",
       "      <td>50.220</td>\n",
       "      <td>63.86</td>\n",
       "      <td>122.000</td>\n",
       "      <td>53.3500</td>\n",
       "    </tr>\n",
       "    <tr>\n",
       "      <th>1</th>\n",
       "      <td>1970-01-01 00:00:01.491226260</td>\n",
       "      <td>2364.1001</td>\n",
       "      <td>42.3600</td>\n",
       "      <td>143.7000</td>\n",
       "      <td>130.3200</td>\n",
       "      <td>82.080</td>\n",
       "      <td>102.1400</td>\n",
       "      <td>85.6500</td>\n",
       "      <td>59.840</td>\n",
       "      <td>121.480</td>\n",
       "      <td>...</td>\n",
       "      <td>84.370</td>\n",
       "      <td>119.035</td>\n",
       "      <td>44.110</td>\n",
       "      <td>39.880</td>\n",
       "      <td>82.030</td>\n",
       "      <td>7.380</td>\n",
       "      <td>50.220</td>\n",
       "      <td>63.74</td>\n",
       "      <td>121.770</td>\n",
       "      <td>53.3500</td>\n",
       "    </tr>\n",
       "    <tr>\n",
       "      <th>2</th>\n",
       "      <td>1970-01-01 00:00:01.491226320</td>\n",
       "      <td>2362.6799</td>\n",
       "      <td>42.3100</td>\n",
       "      <td>143.6901</td>\n",
       "      <td>130.2250</td>\n",
       "      <td>82.030</td>\n",
       "      <td>102.2125</td>\n",
       "      <td>85.5100</td>\n",
       "      <td>59.795</td>\n",
       "      <td>121.930</td>\n",
       "      <td>...</td>\n",
       "      <td>84.585</td>\n",
       "      <td>119.260</td>\n",
       "      <td>44.090</td>\n",
       "      <td>39.980</td>\n",
       "      <td>82.020</td>\n",
       "      <td>7.360</td>\n",
       "      <td>50.120</td>\n",
       "      <td>63.75</td>\n",
       "      <td>121.700</td>\n",
       "      <td>53.3650</td>\n",
       "    </tr>\n",
       "    <tr>\n",
       "      <th>3</th>\n",
       "      <td>1970-01-01 00:00:01.491226380</td>\n",
       "      <td>2364.3101</td>\n",
       "      <td>42.3700</td>\n",
       "      <td>143.6400</td>\n",
       "      <td>130.0729</td>\n",
       "      <td>82.000</td>\n",
       "      <td>102.1400</td>\n",
       "      <td>85.4872</td>\n",
       "      <td>59.620</td>\n",
       "      <td>121.440</td>\n",
       "      <td>...</td>\n",
       "      <td>84.460</td>\n",
       "      <td>119.260</td>\n",
       "      <td>44.250</td>\n",
       "      <td>39.990</td>\n",
       "      <td>82.020</td>\n",
       "      <td>7.350</td>\n",
       "      <td>50.160</td>\n",
       "      <td>63.88</td>\n",
       "      <td>121.700</td>\n",
       "      <td>53.3800</td>\n",
       "    </tr>\n",
       "    <tr>\n",
       "      <th>4</th>\n",
       "      <td>1970-01-01 00:00:01.491226440</td>\n",
       "      <td>2364.8501</td>\n",
       "      <td>42.5378</td>\n",
       "      <td>143.6600</td>\n",
       "      <td>129.8800</td>\n",
       "      <td>82.035</td>\n",
       "      <td>102.0600</td>\n",
       "      <td>85.7001</td>\n",
       "      <td>59.620</td>\n",
       "      <td>121.600</td>\n",
       "      <td>...</td>\n",
       "      <td>84.470</td>\n",
       "      <td>119.610</td>\n",
       "      <td>44.110</td>\n",
       "      <td>39.960</td>\n",
       "      <td>82.030</td>\n",
       "      <td>7.360</td>\n",
       "      <td>50.200</td>\n",
       "      <td>63.91</td>\n",
       "      <td>121.695</td>\n",
       "      <td>53.2400</td>\n",
       "    </tr>\n",
       "    <tr>\n",
       "      <th>...</th>\n",
       "      <td>...</td>\n",
       "      <td>...</td>\n",
       "      <td>...</td>\n",
       "      <td>...</td>\n",
       "      <td>...</td>\n",
       "      <td>...</td>\n",
       "      <td>...</td>\n",
       "      <td>...</td>\n",
       "      <td>...</td>\n",
       "      <td>...</td>\n",
       "      <td>...</td>\n",
       "      <td>...</td>\n",
       "      <td>...</td>\n",
       "      <td>...</td>\n",
       "      <td>...</td>\n",
       "      <td>...</td>\n",
       "      <td>...</td>\n",
       "      <td>...</td>\n",
       "      <td>...</td>\n",
       "      <td>...</td>\n",
       "      <td>...</td>\n",
       "    </tr>\n",
       "    <tr>\n",
       "      <th>41261</th>\n",
       "      <td>1970-01-01 00:00:01.504209360</td>\n",
       "      <td>2472.2200</td>\n",
       "      <td>44.7200</td>\n",
       "      <td>164.1100</td>\n",
       "      <td>155.0900</td>\n",
       "      <td>83.670</td>\n",
       "      <td>106.5650</td>\n",
       "      <td>114.4900</td>\n",
       "      <td>47.150</td>\n",
       "      <td>142.425</td>\n",
       "      <td>...</td>\n",
       "      <td>99.675</td>\n",
       "      <td>99.530</td>\n",
       "      <td>49.485</td>\n",
       "      <td>40.955</td>\n",
       "      <td>76.360</td>\n",
       "      <td>32.285</td>\n",
       "      <td>62.110</td>\n",
       "      <td>76.88</td>\n",
       "      <td>114.310</td>\n",
       "      <td>62.7250</td>\n",
       "    </tr>\n",
       "    <tr>\n",
       "      <th>41262</th>\n",
       "      <td>1970-01-01 00:00:01.504209420</td>\n",
       "      <td>2471.7700</td>\n",
       "      <td>44.7300</td>\n",
       "      <td>164.1200</td>\n",
       "      <td>155.1600</td>\n",
       "      <td>83.650</td>\n",
       "      <td>106.5900</td>\n",
       "      <td>114.5200</td>\n",
       "      <td>47.150</td>\n",
       "      <td>142.450</td>\n",
       "      <td>...</td>\n",
       "      <td>99.730</td>\n",
       "      <td>99.630</td>\n",
       "      <td>49.480</td>\n",
       "      <td>40.960</td>\n",
       "      <td>76.370</td>\n",
       "      <td>32.295</td>\n",
       "      <td>62.100</td>\n",
       "      <td>76.90</td>\n",
       "      <td>114.330</td>\n",
       "      <td>62.7100</td>\n",
       "    </tr>\n",
       "    <tr>\n",
       "      <th>41263</th>\n",
       "      <td>1970-01-01 00:00:01.504209480</td>\n",
       "      <td>2470.0300</td>\n",
       "      <td>44.7400</td>\n",
       "      <td>164.0100</td>\n",
       "      <td>155.0650</td>\n",
       "      <td>83.620</td>\n",
       "      <td>106.5200</td>\n",
       "      <td>114.4700</td>\n",
       "      <td>47.150</td>\n",
       "      <td>142.330</td>\n",
       "      <td>...</td>\n",
       "      <td>99.735</td>\n",
       "      <td>99.640</td>\n",
       "      <td>49.495</td>\n",
       "      <td>40.940</td>\n",
       "      <td>76.315</td>\n",
       "      <td>32.290</td>\n",
       "      <td>62.090</td>\n",
       "      <td>76.88</td>\n",
       "      <td>114.310</td>\n",
       "      <td>62.6850</td>\n",
       "    </tr>\n",
       "    <tr>\n",
       "      <th>41264</th>\n",
       "      <td>1970-01-01 00:00:01.504209540</td>\n",
       "      <td>2471.4900</td>\n",
       "      <td>44.7100</td>\n",
       "      <td>163.8800</td>\n",
       "      <td>154.9600</td>\n",
       "      <td>83.580</td>\n",
       "      <td>106.4000</td>\n",
       "      <td>114.3300</td>\n",
       "      <td>47.135</td>\n",
       "      <td>142.170</td>\n",
       "      <td>...</td>\n",
       "      <td>99.700</td>\n",
       "      <td>99.630</td>\n",
       "      <td>49.485</td>\n",
       "      <td>40.925</td>\n",
       "      <td>76.300</td>\n",
       "      <td>32.275</td>\n",
       "      <td>62.075</td>\n",
       "      <td>76.83</td>\n",
       "      <td>114.230</td>\n",
       "      <td>62.6301</td>\n",
       "    </tr>\n",
       "    <tr>\n",
       "      <th>41265</th>\n",
       "      <td>1970-01-01 00:00:01.504209600</td>\n",
       "      <td>2471.4900</td>\n",
       "      <td>44.7400</td>\n",
       "      <td>163.9800</td>\n",
       "      <td>155.1600</td>\n",
       "      <td>83.690</td>\n",
       "      <td>106.4700</td>\n",
       "      <td>114.4600</td>\n",
       "      <td>47.150</td>\n",
       "      <td>142.410</td>\n",
       "      <td>...</td>\n",
       "      <td>99.670</td>\n",
       "      <td>99.640</td>\n",
       "      <td>49.490</td>\n",
       "      <td>40.940</td>\n",
       "      <td>76.320</td>\n",
       "      <td>32.270</td>\n",
       "      <td>62.070</td>\n",
       "      <td>76.81</td>\n",
       "      <td>114.280</td>\n",
       "      <td>62.6800</td>\n",
       "    </tr>\n",
       "  </tbody>\n",
       "</table>\n",
       "<p>41266 rows × 502 columns</p>\n",
       "</div>"
      ],
      "text/plain": [
       "                               DATE      SP500  NASDAQ.AAL  NASDAQ.AAPL  \\\n",
       "0     1970-01-01 00:00:01.491226200  2363.6101     42.3300     143.6800   \n",
       "1     1970-01-01 00:00:01.491226260  2364.1001     42.3600     143.7000   \n",
       "2     1970-01-01 00:00:01.491226320  2362.6799     42.3100     143.6901   \n",
       "3     1970-01-01 00:00:01.491226380  2364.3101     42.3700     143.6400   \n",
       "4     1970-01-01 00:00:01.491226440  2364.8501     42.5378     143.6600   \n",
       "...                             ...        ...         ...          ...   \n",
       "41261 1970-01-01 00:00:01.504209360  2472.2200     44.7200     164.1100   \n",
       "41262 1970-01-01 00:00:01.504209420  2471.7700     44.7300     164.1200   \n",
       "41263 1970-01-01 00:00:01.504209480  2470.0300     44.7400     164.0100   \n",
       "41264 1970-01-01 00:00:01.504209540  2471.4900     44.7100     163.8800   \n",
       "41265 1970-01-01 00:00:01.504209600  2471.4900     44.7400     163.9800   \n",
       "\n",
       "       NASDAQ.ADBE  NASDAQ.ADI  NASDAQ.ADP  NASDAQ.ADSK  NASDAQ.AKAM  \\\n",
       "0         129.6300      82.040    102.2300      85.2200       59.760   \n",
       "1         130.3200      82.080    102.1400      85.6500       59.840   \n",
       "2         130.2250      82.030    102.2125      85.5100       59.795   \n",
       "3         130.0729      82.000    102.1400      85.4872       59.620   \n",
       "4         129.8800      82.035    102.0600      85.7001       59.620   \n",
       "...            ...         ...         ...          ...          ...   \n",
       "41261     155.0900      83.670    106.5650     114.4900       47.150   \n",
       "41262     155.1600      83.650    106.5900     114.5200       47.150   \n",
       "41263     155.0650      83.620    106.5200     114.4700       47.150   \n",
       "41264     154.9600      83.580    106.4000     114.3300       47.135   \n",
       "41265     155.1600      83.690    106.4700     114.4600       47.150   \n",
       "\n",
       "       NASDAQ.ALXN  ...  NYSE.WYN  NYSE.XEC  NYSE.XEL  NYSE.XL  NYSE.XOM  \\\n",
       "0          121.520  ...    84.370   119.035    44.400   39.880    82.030   \n",
       "1          121.480  ...    84.370   119.035    44.110   39.880    82.030   \n",
       "2          121.930  ...    84.585   119.260    44.090   39.980    82.020   \n",
       "3          121.440  ...    84.460   119.260    44.250   39.990    82.020   \n",
       "4          121.600  ...    84.470   119.610    44.110   39.960    82.030   \n",
       "...            ...  ...       ...       ...       ...      ...       ...   \n",
       "41261      142.425  ...    99.675    99.530    49.485   40.955    76.360   \n",
       "41262      142.450  ...    99.730    99.630    49.480   40.960    76.370   \n",
       "41263      142.330  ...    99.735    99.640    49.495   40.940    76.315   \n",
       "41264      142.170  ...    99.700    99.630    49.485   40.925    76.300   \n",
       "41265      142.410  ...    99.670    99.640    49.490   40.940    76.320   \n",
       "\n",
       "       NYSE.XRX  NYSE.XYL  NYSE.YUM  NYSE.ZBH  NYSE.ZTS  \n",
       "0         7.360    50.220     63.86   122.000   53.3500  \n",
       "1         7.380    50.220     63.74   121.770   53.3500  \n",
       "2         7.360    50.120     63.75   121.700   53.3650  \n",
       "3         7.350    50.160     63.88   121.700   53.3800  \n",
       "4         7.360    50.200     63.91   121.695   53.2400  \n",
       "...         ...       ...       ...       ...       ...  \n",
       "41261    32.285    62.110     76.88   114.310   62.7250  \n",
       "41262    32.295    62.100     76.90   114.330   62.7100  \n",
       "41263    32.290    62.090     76.88   114.310   62.6850  \n",
       "41264    32.275    62.075     76.83   114.230   62.6301  \n",
       "41265    32.270    62.070     76.81   114.280   62.6800  \n",
       "\n",
       "[41266 rows x 502 columns]"
      ]
     },
     "execution_count": 5,
     "metadata": {},
     "output_type": "execute_result"
    }
   ],
   "source": [
    "df"
   ]
  },
  {
   "cell_type": "code",
   "execution_count": 6,
   "metadata": {},
   "outputs": [],
   "source": [
    "df.drop(['DATE','SP500'],axis=1,inplace=True)"
   ]
  },
  {
   "cell_type": "code",
   "execution_count": 7,
   "metadata": {},
   "outputs": [],
   "source": [
    "sse = []\n",
    "for i in range(1,11):\n",
    "    kmean = KMeans(n_clusters=i)\n",
    "    kmean.fit(df)\n",
    "    sse.append(kmean.inertia_)"
   ]
  },
  {
   "cell_type": "code",
   "execution_count": 8,
   "metadata": {},
   "outputs": [
    {
     "data": {
      "text/plain": [
       "[<matplotlib.lines.Line2D at 0x1ae39047310>]"
      ]
     },
     "execution_count": 8,
     "metadata": {},
     "output_type": "execute_result"
    },
    {
     "data": {
      "image/png": "[encoded data removed]",
      "text/plain": [
       "<Figure size 720x432 with 1 Axes>"
      ]
     },
     "metadata": {
      "needs_background": "light"
     },
     "output_type": "display_data"
    }
   ],
   "source": [
    "plt.figure(figsize=(10,6))\n",
    "plt.plot(range(1,11),sse)"
   ]
  },
  {
   "cell_type": "code",
   "execution_count": 9,
   "metadata": {},
   "outputs": [
    {
     "data": {
      "text/plain": [
       "KMeans(n_clusters=5)"
      ]
     },
     "execution_count": 9,
     "metadata": {},
     "output_type": "execute_result"
    }
   ],
   "source": [
    "kmean = KMeans(n_clusters=5)\n",
    "kmean.fit(df)"
   ]
  },
  {
   "cell_type": "code",
   "execution_count": 10,
   "metadata": {},
   "outputs": [],
   "source": [
    "label = kmean.labels_"
   ]
  },
  {
   "cell_type": "code",
   "execution_count": 11,
   "metadata": {},
   "outputs": [
    {
     "data": {
      "text/plain": [
       "0.5102450875430561"
      ]
     },
     "execution_count": 11,
     "metadata": {},
     "output_type": "execute_result"
    }
   ],
   "source": [
    "silhouette_score(df,label)"
   ]
  },
  {
   "cell_type": "code",
   "execution_count": 12,
   "metadata": {},
   "outputs": [],
   "source": [
    "df['label'] = label"
   ]
  },
  {
   "cell_type": "code",
   "execution_count": 13,
   "metadata": {},
   "outputs": [
    {
     "data": {
      "text/plain": [
       "<matplotlib.axes._subplots.AxesSubplot at 0x1ae390d3220>"
      ]
     },
     "execution_count": 13,
     "metadata": {},
     "output_type": "execute_result"
    },
    {
     "data": {
      "image/png": "[encoded data removed]",
      "text/plain": [
       "<Figure size 432x288 with 1 Axes>"
      ]
     },
     "metadata": {},
     "output_type": "display_data"
    }
   ],
   "source": [
    "plt.style.use('ggplot')\n",
    "df.groupby(['label']).agg('size').plot.bar()"
   ]
  },
  {
   "cell_type": "code",
   "execution_count": 14,
   "metadata": {},
   "outputs": [],
   "source": [
    "# Problem 1:\n",
    "# There are various stocks for which we have collected a data set, which all stocks are\n",
    "# apparently similar in performance\n",
    "\n",
    "# Problem 2:\n",
    "# How many Unique patterns that exist in the historical stock data set, based on fluctuations in price.\n",
    "\n",
    "\n",
    "\n",
    "# solution 1 :\n",
    "# so based on clustering , # records residing in the cluster 3,4 & 0 are similar in performance\n",
    "\n",
    "\n",
    "# solution 2 :\n",
    "# so based on clustering approach , we can divide all the data set into 5 cluster according to their performance"
   ]
  },
  {
   "cell_type": "code",
   "execution_count": 15,
   "metadata": {},
   "outputs": [],
   "source": [
    "# conclusion : \n",
    "\n",
    "# most of the records are belongs to cluster 1"
   ]
  },
  {
   "cell_type": "code",
   "execution_count": 16,
   "metadata": {},
   "outputs": [],
   "source": [
    "# Problem 3:\n",
    "# Identify which all stocks are moving together and which all stocks are different from\n",
    "# each other.\n",
    "\n",
    "\n",
    "# solution\n",
    "# we will apply PCA to find out wich stock correlated with each other"
   ]
  },
  {
   "cell_type": "code",
   "execution_count": 17,
   "metadata": {},
   "outputs": [],
   "source": [
    "from sklearn.preprocessing import StandardScaler\n",
    "from sklearn.decomposition import PCA"
   ]
  },
  {
   "cell_type": "code",
   "execution_count": 18,
   "metadata": {},
   "outputs": [],
   "source": [
    "scale = StandardScaler()\n",
    "x = scale.fit_transform(df)"
   ]
  },
  {
   "cell_type": "code",
   "execution_count": 19,
   "metadata": {},
   "outputs": [],
   "source": [
    "EVR = []\n",
    "pca = PCA()\n",
    "pca.fit(x)\n",
    "EVR.append(pca.explained_variance_ratio_)"
   ]
  },
  {
   "cell_type": "code",
   "execution_count": 20,
   "metadata": {},
   "outputs": [
    {
     "data": {
      "text/plain": [
       "Text(0.5, 1.0, 'Explained Variance ratio by no of feature')"
      ]
     },
     "execution_count": 20,
     "metadata": {},
     "output_type": "execute_result"
    },
    {
     "data": {
      "image/png": "[encoded data removed]",
      "text/plain": [
       "<Figure size 432x288 with 1 Axes>"
      ]
     },
     "metadata": {},
     "output_type": "display_data"
    }
   ],
   "source": [
    "plt.figure()\n",
    "plt.plot(np.cumsum(EVR))\n",
    "plt.xlabel('no. of feaures')\n",
    "plt.ylabel('% EVR')\n",
    "plt.title('Explained Variance ratio by no of feature')"
   ]
  },
  {
   "cell_type": "code",
   "execution_count": 21,
   "metadata": {},
   "outputs": [],
   "source": [
    "pca = PCA(n_components=25)\n",
    "new_df = pca.fit_transform(x)"
   ]
  },
  {
   "cell_type": "code",
   "execution_count": 22,
   "metadata": {},
   "outputs": [],
   "source": [
    "new_df = pd.DataFrame(data=new_df)"
   ]
  },
  {
   "cell_type": "code",
   "execution_count": 23,
   "metadata": {},
   "outputs": [
    {
     "data": {
      "text/html": [
       "<div>\n",
       "<style scoped>\n",
       "    .dataframe tbody tr th:only-of-type {\n",
       "        vertical-align: middle;\n",
       "    }\n",
       "\n",
       "    .dataframe tbody tr th {\n",
       "        vertical-align: top;\n",
       "    }\n",
       "\n",
       "    .dataframe thead th {\n",
       "        text-align: right;\n",
       "    }\n",
       "</style>\n",
       "<table border=\"1\" class=\"dataframe\">\n",
       "  <thead>\n",
       "    <tr style=\"text-align: right;\">\n",
       "      <th></th>\n",
       "      <th>0</th>\n",
       "      <th>1</th>\n",
       "      <th>2</th>\n",
       "      <th>3</th>\n",
       "      <th>4</th>\n",
       "      <th>5</th>\n",
       "      <th>6</th>\n",
       "      <th>7</th>\n",
       "      <th>8</th>\n",
       "      <th>9</th>\n",
       "      <th>...</th>\n",
       "      <th>15</th>\n",
       "      <th>16</th>\n",
       "      <th>17</th>\n",
       "      <th>18</th>\n",
       "      <th>19</th>\n",
       "      <th>20</th>\n",
       "      <th>21</th>\n",
       "      <th>22</th>\n",
       "      <th>23</th>\n",
       "      <th>24</th>\n",
       "    </tr>\n",
       "  </thead>\n",
       "  <tbody>\n",
       "    <tr>\n",
       "      <th>0</th>\n",
       "      <td>25.557817</td>\n",
       "      <td>10.152031</td>\n",
       "      <td>-9.349033</td>\n",
       "      <td>-2.971486</td>\n",
       "      <td>-1.474137</td>\n",
       "      <td>-1.763869</td>\n",
       "      <td>-0.807834</td>\n",
       "      <td>-3.789026</td>\n",
       "      <td>4.258434</td>\n",
       "      <td>1.633022</td>\n",
       "      <td>...</td>\n",
       "      <td>-2.580931</td>\n",
       "      <td>-1.300927</td>\n",
       "      <td>-0.720788</td>\n",
       "      <td>1.840079</td>\n",
       "      <td>2.550257</td>\n",
       "      <td>3.758037</td>\n",
       "      <td>-0.705280</td>\n",
       "      <td>0.517556</td>\n",
       "      <td>-0.168177</td>\n",
       "      <td>2.559244</td>\n",
       "    </tr>\n",
       "    <tr>\n",
       "      <th>1</th>\n",
       "      <td>25.656453</td>\n",
       "      <td>10.042294</td>\n",
       "      <td>-9.768311</td>\n",
       "      <td>-2.559245</td>\n",
       "      <td>-1.420781</td>\n",
       "      <td>-1.951833</td>\n",
       "      <td>-0.922538</td>\n",
       "      <td>-3.773103</td>\n",
       "      <td>4.081504</td>\n",
       "      <td>1.562364</td>\n",
       "      <td>...</td>\n",
       "      <td>-2.675927</td>\n",
       "      <td>-1.109411</td>\n",
       "      <td>-0.684159</td>\n",
       "      <td>1.813959</td>\n",
       "      <td>2.577442</td>\n",
       "      <td>3.627674</td>\n",
       "      <td>-0.773390</td>\n",
       "      <td>0.414574</td>\n",
       "      <td>-0.112587</td>\n",
       "      <td>2.507352</td>\n",
       "    </tr>\n",
       "    <tr>\n",
       "      <th>2</th>\n",
       "      <td>25.571102</td>\n",
       "      <td>9.974310</td>\n",
       "      <td>-9.644003</td>\n",
       "      <td>-2.861353</td>\n",
       "      <td>-1.511362</td>\n",
       "      <td>-1.864422</td>\n",
       "      <td>-0.858939</td>\n",
       "      <td>-3.856301</td>\n",
       "      <td>4.103665</td>\n",
       "      <td>1.669759</td>\n",
       "      <td>...</td>\n",
       "      <td>-2.469000</td>\n",
       "      <td>-1.174208</td>\n",
       "      <td>-0.790121</td>\n",
       "      <td>1.737009</td>\n",
       "      <td>2.634360</td>\n",
       "      <td>3.601918</td>\n",
       "      <td>-0.973793</td>\n",
       "      <td>0.493889</td>\n",
       "      <td>-0.209370</td>\n",
       "      <td>2.223678</td>\n",
       "    </tr>\n",
       "    <tr>\n",
       "      <th>3</th>\n",
       "      <td>25.676233</td>\n",
       "      <td>10.139066</td>\n",
       "      <td>-9.141571</td>\n",
       "      <td>-3.051198</td>\n",
       "      <td>-1.376474</td>\n",
       "      <td>-1.956331</td>\n",
       "      <td>-0.761473</td>\n",
       "      <td>-3.884253</td>\n",
       "      <td>4.110414</td>\n",
       "      <td>1.758354</td>\n",
       "      <td>...</td>\n",
       "      <td>-2.325492</td>\n",
       "      <td>-1.158027</td>\n",
       "      <td>-0.889728</td>\n",
       "      <td>1.727435</td>\n",
       "      <td>2.509068</td>\n",
       "      <td>3.637797</td>\n",
       "      <td>-0.975904</td>\n",
       "      <td>0.527027</td>\n",
       "      <td>-0.161123</td>\n",
       "      <td>2.088225</td>\n",
       "    </tr>\n",
       "    <tr>\n",
       "      <th>4</th>\n",
       "      <td>25.588235</td>\n",
       "      <td>10.025772</td>\n",
       "      <td>-9.480433</td>\n",
       "      <td>-2.844725</td>\n",
       "      <td>-1.306843</td>\n",
       "      <td>-1.965775</td>\n",
       "      <td>-0.854591</td>\n",
       "      <td>-4.072006</td>\n",
       "      <td>4.132542</td>\n",
       "      <td>1.701004</td>\n",
       "      <td>...</td>\n",
       "      <td>-2.437235</td>\n",
       "      <td>-1.165489</td>\n",
       "      <td>-0.857809</td>\n",
       "      <td>1.747756</td>\n",
       "      <td>2.449493</td>\n",
       "      <td>3.606478</td>\n",
       "      <td>-0.985839</td>\n",
       "      <td>0.451783</td>\n",
       "      <td>-0.146015</td>\n",
       "      <td>2.028829</td>\n",
       "    </tr>\n",
       "  </tbody>\n",
       "</table>\n",
       "<p>5 rows × 25 columns</p>\n",
       "</div>"
      ],
      "text/plain": [
       "          0          1         2         3         4         5         6   \\\n",
       "0  25.557817  10.152031 -9.349033 -2.971486 -1.474137 -1.763869 -0.807834   \n",
       "1  25.656453  10.042294 -9.768311 -2.559245 -1.420781 -1.951833 -0.922538   \n",
       "2  25.571102   9.974310 -9.644003 -2.861353 -1.511362 -1.864422 -0.858939   \n",
       "3  25.676233  10.139066 -9.141571 -3.051198 -1.376474 -1.956331 -0.761473   \n",
       "4  25.588235  10.025772 -9.480433 -2.844725 -1.306843 -1.965775 -0.854591   \n",
       "\n",
       "         7         8         9   ...        15        16        17        18  \\\n",
       "0 -3.789026  4.258434  1.633022  ... -2.580931 -1.300927 -0.720788  1.840079   \n",
       "1 -3.773103  4.081504  1.562364  ... -2.675927 -1.109411 -0.684159  1.813959   \n",
       "2 -3.856301  4.103665  1.669759  ... -2.469000 -1.174208 -0.790121  1.737009   \n",
       "3 -3.884253  4.110414  1.758354  ... -2.325492 -1.158027 -0.889728  1.727435   \n",
       "4 -4.072006  4.132542  1.701004  ... -2.437235 -1.165489 -0.857809  1.747756   \n",
       "\n",
       "         19        20        21        22        23        24  \n",
       "0  2.550257  3.758037 -0.705280  0.517556 -0.168177  2.559244  \n",
       "1  2.577442  3.627674 -0.773390  0.414574 -0.112587  2.507352  \n",
       "2  2.634360  3.601918 -0.973793  0.493889 -0.209370  2.223678  \n",
       "3  2.509068  3.637797 -0.975904  0.527027 -0.161123  2.088225  \n",
       "4  2.449493  3.606478 -0.985839  0.451783 -0.146015  2.028829  \n",
       "\n",
       "[5 rows x 25 columns]"
      ]
     },
     "execution_count": 23,
     "metadata": {},
     "output_type": "execute_result"
    }
   ],
   "source": [
    "new_df.head()"
   ]
  },
  {
   "cell_type": "code",
   "execution_count": 25,
   "metadata": {},
   "outputs": [],
   "source": [
    "# conclusion : these 25 stocks are which moving togather"
   ]
  },
  {
   "cell_type": "code",
   "execution_count": null,
   "metadata": {},
   "outputs": [],
   "source": []
  }
 ],
 "metadata": {
  "kernelspec": {
   "display_name": "Python 3",
   "language": "python",
   "name": "python3"
  },
  "language_info": {
   "codemirror_mode": {
    "name": "ipython",
    "version": 3
   },
   "file_extension": ".py",
   "mimetype": "text/x-python",
   "name": "python",
   "nbconvert_exporter": "python",
   "pygments_lexer": "ipython3",
   "version": "3.8.3"
  }
 },
 "nbformat": 4,
 "nbformat_minor": 4
}
